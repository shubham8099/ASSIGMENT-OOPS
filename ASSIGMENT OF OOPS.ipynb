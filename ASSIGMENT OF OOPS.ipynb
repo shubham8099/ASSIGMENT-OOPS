{
 "cells": [
  {
   "cell_type": "raw",
   "id": "79b9d2a5-04eb-4379-8c76-374cd64c368a",
   "metadata": {},
   "source": [
    " Q1. Explain Class and Object with respect to Object-Oriented Programming. Give a suitable example"
   ]
  },
  {
   "cell_type": "raw",
   "id": "6f77dad1-2217-4fbb-b3ac-d4481afb986e",
   "metadata": {},
   "source": [
    "ANSWER =\n",
    "        * A CLASS IS DEFINE THE TYPES OR ITS CONTENT OF THE OBJECT \n",
    "         WHICH IS RELATED TO OBJECT.IT IS ASLO DEFINE THE OPERATIONS\n",
    "         WHICH WILL BE THE PERFORMING IN THE OBJECT.\n",
    "         \n",
    "         \n",
    "        * A OBJECT IS  AN ELEMENT(OR INSTANCE) OF THE CLASS;OBJECT \n",
    "        HAVE THE BEHAVIOUR OF THEIR CLASS. AN OBJECT CONATIN DATA AND \n",
    "        FUNCTION THAT MANIPLUATE THE DATA , AN OBJECT IS MINI PROGRAMMING\n",
    "        IN THE PYTHON WHICH SET ITS OWN RULE AND BEHAVIOUR"
   ]
  },
  {
   "cell_type": "raw",
   "id": "4845fc52-009c-4178-98ad-f12f63769750",
   "metadata": {},
   "source": [
    "LET US WE TAKING AN EXAMPLE OF CLASS AND OBJECT "
   ]
  },
  {
   "cell_type": "code",
   "execution_count": 3,
   "id": "1fd91e96-7531-4e71-ace5-f16e213257b8",
   "metadata": {},
   "outputs": [],
   "source": [
    "class pwskills:  #THIS IS THE CLASS PF PWSKILLS IN WHICH WE MAKE STUDENT DETAILS\n",
    "    def __init__(self , name , email):\n",
    "        self.name = name\n",
    "        self.email = email\n",
    "        \n",
    "    def student_details(self):\n",
    "        print(self.name , self.email)\n",
    "        \n",
    "        \n",
    "        \n",
    "##FROM THE ABOVE EXAMPLE WE CREATE AN CLASS OF STUDENT DETAILS IN WHICH THEY CONTAIN NAME OF THE STUDENT AND THEIR EMAILS\n",
    "        "
   ]
  },
  {
   "cell_type": "code",
   "execution_count": 4,
   "id": "e577332f-843f-4478-ae6a-8a372c223315",
   "metadata": {},
   "outputs": [],
   "source": [
    "#NOW WE CREATING AN OBJECT FOR THE CLASS PWSKILLS\n",
    "\n",
    "ss = pwskills(\"shuhham shah\" ,\"shubhamshah8099@gmail.com\") # THIS IS AN OBJECT OF CLASS\n"
   ]
  },
  {
   "cell_type": "code",
   "execution_count": 6,
   "id": "8a836172-6d04-41be-a798-dde7da7b6814",
   "metadata": {},
   "outputs": [
    {
     "data": {
      "text/plain": [
       "'shuhham shah'"
      ]
     },
     "execution_count": 6,
     "metadata": {},
     "output_type": "execute_result"
    }
   ],
   "source": [
    "#NOW WE CALLING NAME OF A PARTICULAR STUDENT FROM THE OBJECT WHICH IS PRESENT IN THE CLASS\n",
    "\n",
    "\n",
    "ss.name"
   ]
  },
  {
   "cell_type": "raw",
   "id": "338ecb9f-2030-44ac-9399-d13654264aad",
   "metadata": {},
   "source": [
    "FROM THE ABOVE EXAMPLE WE CAN SEE THAT HOW WE MAKE AN CLASS AND AN OBJECT AND HOW THEY ARE WORK."
   ]
  },
  {
   "cell_type": "raw",
   "id": "9514ef5e-0b9a-464a-b62e-85f8207e8a93",
   "metadata": {},
   "source": [
    "Q2. Name the four pillars of OOPs"
   ]
  },
  {
   "cell_type": "raw",
   "id": "95f3d57a-afc4-448a-9859-c8cbba31994c",
   "metadata": {},
   "source": [
    "ANSWER = THERE ARE FOUR PILLARS OF OOPS\n",
    "\n",
    "        * ABSTRACTION\n",
    "        * INHERITANCE\n",
    "        * ENCAPSULATION\n",
    "        * POLYMORPHSIM"
   ]
  },
  {
   "cell_type": "raw",
   "id": "fc93a7a7-eaa1-4eda-94e5-c6047cebd97a",
   "metadata": {},
   "source": [
    "Q3. Explain why the __init__() function is used. Give a suitable example."
   ]
  },
  {
   "cell_type": "raw",
   "id": "062fb368-5953-4684-b66e-3dd00bd31d20",
   "metadata": {},
   "source": [
    "__init__ = THIS IS THE INBUILD FUNCTION OF THE PYTHON IN WHICH \n",
    "           THEY INITILAIZE THE ATTRIBUTES OF THE CLASS.\n",
    "           \n",
    "LET US TAKEING AN EXAMPLE :- \n",
    "WHEN THE CLASS IS A PERSON THE __INIT__ ATTRIBUTE THE PERSON NAME ,AGE & SOME HER DETAILS.INIT IS TAKEING DETAILS FROM US AND RUN WITH THE HELP OF FUNCTION\n",
    "NOW WE DOING THIS PRACTICALLY."
   ]
  },
  {
   "cell_type": "code",
   "execution_count": 9,
   "id": "5d3628e1-55d2-49f7-a06d-2f86446e5afb",
   "metadata": {},
   "outputs": [],
   "source": [
    "class kvs:\n",
    "    def __init__(self , name , age , love_start_date): #from here init taking details from us\n",
    "        self.name = name\n",
    "        self.age = age\n",
    "        self.love_start_date = love_start_date \n",
    "        \n",
    "    def student_details(self):\n",
    "        print(self.name , self.age , self.love_start_date)\n",
    "        "
   ]
  },
  {
   "cell_type": "code",
   "execution_count": 16,
   "id": "aa5eb641-d85b-49fb-bc1a-f1882825e628",
   "metadata": {},
   "outputs": [],
   "source": [
    "ss = kvs(\"SITASHUBHAM\" , \"18\" , \"12/12/2023\")"
   ]
  },
  {
   "cell_type": "code",
   "execution_count": 17,
   "id": "43304152-e674-44e8-9f0d-1f9eb58b6b7d",
   "metadata": {},
   "outputs": [
    {
     "data": {
      "text/plain": [
       "'SITASHUBHAM'"
      ]
     },
     "execution_count": 17,
     "metadata": {},
     "output_type": "execute_result"
    }
   ],
   "source": [
    "ss.name"
   ]
  },
  {
   "cell_type": "raw",
   "id": "104c2f6f-f8a8-4d9b-bcdb-fbdd98e877ce",
   "metadata": {},
   "source": [
    "FROM THE ABOVE EXAMPLE WE CAN SEE THAT HOW THE INIT TAKE THE DETAILS\n",
    "FROM US AND ATTRIBUTES IN THE CLASS\n"
   ]
  },
  {
   "cell_type": "raw",
   "id": "651459fc-b5d1-48ef-8938-f2a2aa3d1f18",
   "metadata": {},
   "source": [
    "Q4. Why self is used in OOPs ?"
   ]
  },
  {
   "cell_type": "raw",
   "id": "aa34d41a-1cde-4e6e-bd82-3e07c3e89bee",
   "metadata": {},
   "source": [
    "self represent the instance of the class. by using \"self\" we can acess\n",
    "the attributes and the method of the class in the python.it bind the attributes\n",
    "with the given argument. we use\"self\" beacuse the python don't use @syntax to refer\n",
    "intance attributes."
   ]
  },
  {
   "cell_type": "raw",
   "id": "f2109b0f-8ef4-493e-a51d-6b33df24e0e3",
   "metadata": {},
   "source": [
    "Q5. What is inheritance ? Give an example for each type of inheritance."
   ]
  },
  {
   "cell_type": "raw",
   "id": "95a7e294-ab3a-4b11-9ba2-1219a311b82e",
   "metadata": {},
   "source": [
    "inheritance = inheritance allows us to define a class that inherit all\n",
    "              the method and properties from another class.\n",
    "              \n",
    "let us we taking an example of inheritance.              "
   ]
  },
  {
   "cell_type": "code",
   "execution_count": 18,
   "id": "2548fb08-b3fb-430b-a44c-c6b55569f3ce",
   "metadata": {},
   "outputs": [],
   "source": [
    "class class1:\n",
    "    \n",
    "    def test_class1(self):\n",
    "        return \"this is method of class 1\"\n",
    "    "
   ]
  },
  {
   "cell_type": "code",
   "execution_count": 19,
   "id": "d0e92a1e-4202-492e-bce1-8d16820cfc1c",
   "metadata": {},
   "outputs": [],
   "source": [
    "class class2(class1):\n",
    "    \n",
    "    def test_class2(self):\n",
    "        return \"this is method of class 2\""
   ]
  },
  {
   "cell_type": "code",
   "execution_count": 20,
   "id": "d62279d0-7c34-4bf3-8e15-f554c490a35a",
   "metadata": {},
   "outputs": [],
   "source": [
    "class class3(class2):\n",
    "    pass"
   ]
  },
  {
   "cell_type": "code",
   "execution_count": 21,
   "id": "169961b3-3eb8-45d6-80f6-b01c11e47e84",
   "metadata": {},
   "outputs": [],
   "source": [
    "obj_class3 = class3()"
   ]
  },
  {
   "cell_type": "code",
   "execution_count": 23,
   "id": "dbb69588-d17c-44d3-8a23-857e35608456",
   "metadata": {},
   "outputs": [
    {
     "data": {
      "text/plain": [
       "'this is method of class 2'"
      ]
     },
     "execution_count": 23,
     "metadata": {},
     "output_type": "execute_result"
    }
   ],
   "source": [
    "obj_class3.test_class2()"
   ]
  },
  {
   "cell_type": "raw",
   "id": "72cf00fd-8ad5-432d-9311-011c400b1726",
   "metadata": {},
   "source": [
    "THIS EXAMPLE SHOW THE MULTIPLE INHERITANCE IN WHICH WE CAN CALL ONE \n",
    "PARTICULAR CLASS IN ANOTHER CLASS AND ALSO WE CAN DEFINE IT'S FUNCTION."
   ]
  },
  {
   "cell_type": "raw",
   "id": "0a0c7f67-1881-4157-9169-35fca65bd293",
   "metadata": {},
   "source": [
    "NOW LET US WE TAKEING SINGLE INHERITANCE"
   ]
  },
  {
   "cell_type": "code",
   "execution_count": 24,
   "id": "30b3e7d4-6c16-458f-ae76-8b924e513db3",
   "metadata": {},
   "outputs": [],
   "source": [
    "class test:\n",
    "    \n",
    "    def test_method(self):\n",
    "        return \"this is my first method\"\n",
    "        \n",
    "    "
   ]
  },
  {
   "cell_type": "code",
   "execution_count": 26,
   "id": "92db6c0e-7ea0-4de6-a352-1207fc01b8d2",
   "metadata": {},
   "outputs": [],
   "source": [
    "class child_test(test):\n",
    "    pass"
   ]
  },
  {
   "cell_type": "code",
   "execution_count": 27,
   "id": "b6b6efc8-5cad-4f41-a6ef-50ac28df7d41",
   "metadata": {},
   "outputs": [],
   "source": [
    "child_test_obj = child_test()"
   ]
  },
  {
   "cell_type": "code",
   "execution_count": 29,
   "id": "22b97ea6-ec1a-48a1-8968-8241f407ca43",
   "metadata": {},
   "outputs": [
    {
     "data": {
      "text/plain": [
       "'this is my first method'"
      ]
     },
     "execution_count": 29,
     "metadata": {},
     "output_type": "execute_result"
    }
   ],
   "source": [
    "child_test_obj.test_method()"
   ]
  },
  {
   "cell_type": "raw",
   "id": "e7d00d1e-2cbc-4e22-b567-546817eef42a",
   "metadata": {},
   "source": [
    "FROM ABOVE THE EXAMPLE SHOWS THAT THE SINGLE OR A PARTICULAR INHERITANCE "
   ]
  },
  {
   "cell_type": "code",
   "execution_count": null,
   "id": "694ba44a-1bc8-4d50-8504-6e8df887d470",
   "metadata": {},
   "outputs": [],
   "source": []
  }
 ],
 "metadata": {
  "kernelspec": {
   "display_name": "Python 3 (ipykernel)",
   "language": "python",
   "name": "python3"
  },
  "language_info": {
   "codemirror_mode": {
    "name": "ipython",
    "version": 3
   },
   "file_extension": ".py",
   "mimetype": "text/x-python",
   "name": "python",
   "nbconvert_exporter": "python",
   "pygments_lexer": "ipython3",
   "version": "3.10.8"
  }
 },
 "nbformat": 4,
 "nbformat_minor": 5
}
